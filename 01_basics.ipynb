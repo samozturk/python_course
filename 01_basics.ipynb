{
 "cells": [
  {
   "cell_type": "markdown",
   "metadata": {},
   "source": [
    "## Development of the Python Programming Language\n",
    "1. The Origin of Python\n",
    "Developer: Guido van Rossum, a **Dutch** programmer, is the creator of Python.\n",
    "Inspiration: Python was inspired by the ABC programming language, which was designed for teaching and prototyping but lacked certain features like exception handling and the ability to interface with the operating system. Guido wanted to create a language that combined the strengths of ABC with more powerful and flexible capabilities. \n",
    "<br><br>\n",
    "2. Initial Development\n",
    "Timeline:\n",
    "Guido began working on Python in December 1989 while at the Centrum Wiskunde & Informatica (CWI) in the Netherlands.\n",
    "The first version, Python 0.9.0, was released in February 1991.\n",
    "Features of Python 0.9.0:\n",
    "It included core concepts like exception handling, functions, and the core data types: str, list, dict, and others.\n",
    "Modules were also introduced in this version, allowing the reuse of code and modular programming.\n",
    "<br><br>\n",
    "3. Naming of Python\n",
    "Guido named the language \"Python\" as a tribute to the British comedy group Monty Python, not after the snake. He was reading the script for \"Monty Python's Flying Circus\" while developing the language and wanted a name that was short, unique, and slightly mysterious.\n",
    "<br><br>\n",
    "4. Purpose of Development\n",
    "Guido wanted to create a language that was:\n",
    "Easy to Read and Write: Emphasizing code readability with clear syntax.\n",
    "High-Level: Abstracting complex details of the computer's operation.\n",
    "Flexible and Extensible: Suitable for a variety of applications, from scripting to full-scale application development.\n",
    "Interactive and Interpreted: Allowing users to quickly test and execute code.\n",
    "<br><br>\n",
    "5. Key Milestones in Python's Evolution\n",
    "1994: Python 1.0 was released, featuring functional programming tools like lambda, map(), filter(), and reduce().\n",
    "2000: Python 2.0 was introduced, adding list comprehensions, garbage collection, and the dict constructor.\n",
    "2008: Python 3.0, a major revision, was released to rectify inconsistencies in the language and improve overall design. It was not backward compatible with Python 2.x, which led to a long period of transition and dual-version support.\n",
    "<br><br>\n",
    "6. Community and Open Source\n",
    "Python has always been an open-source project, with contributions from a global community of developers.\n",
    "Python Software Foundation (PSF): Established in 2001, the PSF manages the open-source licensing and ongoing development of Python.\n",
    "<br><br>\n",
    "7. Why Python Became Popular\n",
    "Simplicity and Readability: Its clean and readable syntax makes it an excellent language for beginners and professionals alike.\n",
    "Versatility: Used in various domains such as web development, data science, automation, scientific computing, artificial intelligence, and more.\n",
    "Extensive Libraries and Community Support: A vast ecosystem of libraries and a supportive community help developers solve almost any problem using Python.\n",
    "<br><br>\n",
    "8. Current Status\n",
    "Python is one of the most popular programming languages worldwide, driven by its extensive use in data science, machine learning, and web development.\n",
    "It continues to evolve with regular updates and an active community contributing to its development.\n",
    "Leadership and Governance\n",
    "Guido van Rossum served as Python's \"Benevolent Dictator For Life\" (BDFL), overseeing its development until he stepped down from the role in 2018.\n",
    "Today, Python’s development is managed by the Python Steering Council, ensuring the language continues to grow and meet the needs of its diverse user base."
   ]
  },
  {
   "cell_type": "markdown",
   "metadata": {},
   "source": [
    "# Data Types\n",
    "### Python supports various data types such as int, float, str, list, tuple, set, and dict."
   ]
  },
  {
   "cell_type": "code",
   "execution_count": 2,
   "metadata": {},
   "outputs": [],
   "source": [
    "# Example: Different Data Types in Python\n",
    "bool_example = True\n",
    "integer_example = 10  # Integer type\n",
    "float_example = 10.5  # Float type\n",
    "string_example = \"Hello, Java\"  # String type\n"
   ]
  },
  {
   "cell_type": "code",
   "execution_count": 3,
   "metadata": {},
   "outputs": [
    {
     "name": "stdout",
     "output_type": "stream",
     "text": [
      "My message: Hello, Java\n"
     ]
    }
   ],
   "source": [
    "f_string_example = f\"My message: {string_example}\"\n",
    "print(f_string_example)"
   ]
  },
  {
   "cell_type": "code",
   "execution_count": 4,
   "metadata": {},
   "outputs": [
    {
     "name": "stdout",
     "output_type": "stream",
     "text": [
      "integer: 10 , converted to float: 10.0\n"
     ]
    }
   ],
   "source": [
    "# You can also cast/convert\n",
    "int_to_float = float(integer_example)\n",
    "print(f\"integer: {integer_example} , converted to float: {int_to_float}\")\n",
    "\n",
    "\n",
    "list_example = [1, 2, 3, 4, 5]  # List type\n",
    "tuple_example = (1, 2, 3, 4, 5)  # Tuple type\n",
    "set_example = {1, 2, 3, 4, 5}  # Set type\n",
    "dict_example = {\"name\": \"Sam\", \"age\": 35}  # Dictionary type"
   ]
  },
  {
   "cell_type": "code",
   "execution_count": 5,
   "metadata": {},
   "outputs": [
    {
     "data": {
      "text/plain": [
       "'A'"
      ]
     },
     "execution_count": 5,
     "metadata": {},
     "output_type": "execute_result"
    }
   ],
   "source": [
    "# BONUS, ascii to str\n",
    "chr(65)"
   ]
  },
  {
   "cell_type": "code",
   "execution_count": null,
   "metadata": {},
   "outputs": [],
   "source": []
  },
  {
   "cell_type": "code",
   "execution_count": 6,
   "metadata": {},
   "outputs": [
    {
     "ename": "TypeError",
     "evalue": "sequence item 0: expected str instance, int found",
     "output_type": "error",
     "traceback": [
      "\u001b[1;31m---------------------------------------------------------------------------\u001b[0m",
      "\u001b[1;31mTypeError\u001b[0m                                 Traceback (most recent call last)",
      "Cell \u001b[1;32mIn[6], line 3\u001b[0m\n\u001b[0;32m      1\u001b[0m \u001b[38;5;66;03m# String methods\u001b[39;00m\n\u001b[0;32m      2\u001b[0m str_list \u001b[38;5;241m=\u001b[39m [\u001b[38;5;241m1\u001b[39m, \u001b[38;5;241m2\u001b[39m, \u001b[38;5;241m3\u001b[39m]\n\u001b[1;32m----> 3\u001b[0m join_examples \u001b[38;5;241m=\u001b[39m \u001b[38;5;124;43m'\u001b[39;49m\u001b[38;5;124;43m,\u001b[39;49m\u001b[38;5;124;43m'\u001b[39;49m\u001b[38;5;241;43m.\u001b[39;49m\u001b[43mjoin\u001b[49m\u001b[43m(\u001b[49m\u001b[43mstr_list\u001b[49m\u001b[43m)\u001b[49m \n\u001b[0;32m      4\u001b[0m \u001b[38;5;28mprint\u001b[39m(join_examples)\n\u001b[0;32m      5\u001b[0m \u001b[38;5;28mprint\u001b[39m(\u001b[38;5;28mtype\u001b[39m(join_examples))\n",
      "\u001b[1;31mTypeError\u001b[0m: sequence item 0: expected str instance, int found"
     ]
    }
   ],
   "source": [
    "# String methods\n",
    "str_list = [1, 2, 3]\n",
    "join_examples = ','.join(str_list) \n",
    "print(join_examples)\n",
    "print(type(join_examples))\n",
    "\n",
    "\n",
    "split_examples = join_examples.split(',')\n",
    "print(split_examples)\n",
    "print(type(split_examples))"
   ]
  },
  {
   "cell_type": "code",
   "execution_count": 49,
   "metadata": {},
   "outputs": [
    {
     "data": {
      "text/plain": [
       "[1, 2, 3, 4, 5]"
      ]
     },
     "execution_count": 49,
     "metadata": {},
     "output_type": "execute_result"
    }
   ],
   "source": [
    "list_example.append()"
   ]
  },
  {
   "cell_type": "code",
   "execution_count": 52,
   "metadata": {},
   "outputs": [
    {
     "name": "stdout",
     "output_type": "stream",
     "text": [
      "[1, 2, 3, 4, 5, 6]\n",
      "[1, 2, 3, 4, 5]\n",
      "5\n",
      "[1, 2, 3, 4]\n",
      "[1, 'a', 2, 3, 4]\n"
     ]
    }
   ],
   "source": [
    "# List methods\n",
    "list_example.append(6)\n",
    "print(list_example)\n",
    "list_example.remove(6)\n",
    "print(list_example)\n",
    "\n",
    "lost_element = list_example.pop()\n",
    "print(lost_element)\n",
    "print(list_example)\n",
    "\n",
    "list_example.insert(1, \"a\")\n",
    "print(list_example)"
   ]
  },
  {
   "cell_type": "code",
   "execution_count": 61,
   "metadata": {},
   "outputs": [
    {
     "name": "stdout",
     "output_type": "stream",
     "text": [
      "2\n",
      "1\n",
      "9\n",
      "False\n"
     ]
    }
   ],
   "source": [
    "# Operators\n",
    "# Python includes arithmetic, comparison, logical, bitwise, assignment, identity, and membership operators.\n",
    "\n",
    "# Example: Arithmetic Operators\n",
    "sum_example = 10 + 5  # Addition\n",
    "difference_example = 10 - 5  # Subtraction\n",
    "product_example = 10 * 5  # Multiplication\n",
    "division_example = 10 / 5  # Division\n",
    "\n",
    "floor_division = 13 // 5\n",
    "print(floor_division) # 2\n",
    "\n",
    "modulus_example = 11 % 5\n",
    "print(modulus_example) \n",
    "\n",
    "exp_example = 3 ** 2\n",
    "print(exp_example)\n",
    "\n",
    "and_example = True and False\n",
    "or_example = True or False\n",
    "\n",
    "gt_example = 5 != 10\n",
    "print(gt_example)"
   ]
  },
  {
   "cell_type": "code",
   "execution_count": null,
   "metadata": {},
   "outputs": [],
   "source": []
  },
  {
   "cell_type": "code",
   "execution_count": 75,
   "metadata": {},
   "outputs": [
    {
     "name": "stdout",
     "output_type": "stream",
     "text": [
      "Hello, Java from The Hague\n"
     ]
    }
   ],
   "source": [
    "# What happens if you sum to str?\n",
    "string_sum_example = string_example + \" from The Hague\"\n",
    "print(string_sum_example)"
   ]
  },
  {
   "cell_type": "code",
   "execution_count": 82,
   "metadata": {},
   "outputs": [
    {
     "name": "stdout",
     "output_type": "stream",
     "text": [
      "list example: [1, 'a', 2, 3, 4],\n",
      "list example 2: [1, 'a', 2, 3, 4]\n",
      "True\n"
     ]
    }
   ],
   "source": [
    "# is and == operator\n",
    "list_example_2 = list(list_example)\n",
    "\n",
    "print(f'''list example: {list_example},\n",
    "list example 2: {list_example_2}''') # multi-line strings\n",
    "\n",
    "print(list_example_2 == list_example)"
   ]
  },
  {
   "cell_type": "code",
   "execution_count": 83,
   "metadata": {},
   "outputs": [
    {
     "name": "stdout",
     "output_type": "stream",
     "text": [
      "False\n"
     ]
    }
   ],
   "source": [
    "print(list_example is list_example_2)"
   ]
  },
  {
   "cell_type": "markdown",
   "metadata": {},
   "source": [
    "## Conditionals, Loops"
   ]
  },
  {
   "cell_type": "code",
   "execution_count": 7,
   "metadata": {},
   "outputs": [
    {
     "name": "stdout",
     "output_type": "stream",
     "text": [
      "Eligible to vote\n"
     ]
    }
   ],
   "source": [
    "# Conditional Statement\n",
    "# if, elif, else are used for decision-making based on conditions.\n",
    "\n",
    "# Example: Conditional Statement\n",
    "age = 18\n",
    "if age := 18 + 1:\n",
    "    print(\"Eligible to vote\")\n",
    "elif age == 18:\n",
    "    print(\"Still eligible to vote\") \n",
    "elif age > 65:\n",
    "    print('too old to vote')\n",
    "else:\n",
    "    print(\"Not eligible to vote\")"
   ]
  },
  {
   "cell_type": "code",
   "execution_count": 8,
   "metadata": {},
   "outputs": [
    {
     "name": "stdout",
     "output_type": "stream",
     "text": [
      "Loop iteration 0\n",
      "Loop iteration 1\n",
      "Loop iteration 2\n",
      "Loop iteration 3\n",
      "Loop iteration 4\n"
     ]
    }
   ],
   "source": [
    "# Looping Statement\n",
    "# Python supports loops like for and while for iterative execution.\n",
    "\n",
    "# Example: For Loop\n",
    "for i in range(5):\n",
    "    print(f\"Loop iteration {i}\")"
   ]
  },
  {
   "cell_type": "code",
   "execution_count": 9,
   "metadata": {},
   "outputs": [
    {
     "name": "stdout",
     "output_type": "stream",
     "text": [
      "a\n",
      "b\n",
      "c\n"
     ]
    }
   ],
   "source": [
    "nn = ['a', 'b', 'c']\n",
    "caps = ['A', 'B', 'C', 'D']\n",
    "\n",
    "my_dict = dict()\n",
    "for letter in nn:\n",
    "    print(letter)\n"
   ]
  },
  {
   "cell_type": "markdown",
   "metadata": {},
   "source": [
    "## Functions"
   ]
  },
  {
   "cell_type": "code",
   "execution_count": null,
   "metadata": {},
   "outputs": [],
   "source": [
    "# Functions\n",
    "# Functions are reusable blocks of code that perform a specific task.\n",
    "\n",
    "# Example: Function Definition\n",
    "def greet(name):\n",
    "    \"\"\"This function greets a person.\"\"\"\n",
    "    return f\"Hello, {name}!\"\n",
    "\n",
    "print(greet(\"Alice\"))"
   ]
  },
  {
   "cell_type": "code",
   "execution_count": 12,
   "metadata": {},
   "outputs": [],
   "source": [
    "# Global and local variables\n",
    "def int(number):\n",
    "    return number + \"1\"\n"
   ]
  },
  {
   "cell_type": "code",
   "execution_count": null,
   "metadata": {},
   "outputs": [],
   "source": []
  },
  {
   "cell_type": "markdown",
   "metadata": {},
   "source": [
    "## Object-Oriented Programming (OOP) in Python\n",
    "\n",
    "##### OOP is a programming paradigm based on the concept of objects, which can contain both data (attributes) and methods (functions).\n",
    "#### The four main pillars of OOP are:\n",
    "### 1. Encapsulation\n",
    "### 2. Abstraction\n",
    "### 3. Inheritance\n",
    "### 4. Polymorphism"
   ]
  },
  {
   "cell_type": "code",
   "execution_count": 15,
   "metadata": {},
   "outputs": [],
   "source": [
    "# ==========================\n",
    "# 1. Classes and Objects\n",
    "# ==========================\n",
    "# A class is a blueprint for creating objects. An object is an instance of a class.\n",
    "\n",
    "# Example: Creating a simple class `Car` with attributes and methods.\n",
    "class Car:\n",
    "    # __init__ is the constructor method in Python. It initializes the object's state.\n",
    "    def __init__(self, brand, model, year):\n",
    "        # `self` is a reference to the current object. It allows the class to access its own attributes and methods.\n",
    "        self.brand = brand  # Attribute: brand of the car\n",
    "        self.model = model  # Attribute: model of the car\n",
    "        self.year = year    # Attribute: year of manufacture\n",
    "\n",
    "    # Method to display car details\n",
    "    def display_details(self):\n",
    "        print(f\"Car Details: {self.year} {self.brand} {self.model}\")\n",
    "        "
   ]
  },
  {
   "cell_type": "code",
   "execution_count": 18,
   "metadata": {},
   "outputs": [
    {
     "name": "stdout",
     "output_type": "stream",
     "text": [
      "Car Details: 2021 Toyota Corolla\n"
     ]
    }
   ],
   "source": [
    "# Creating an object of the class\n",
    "my_car = Car(\"Toyota\", \"Corolla\", 2021)\n",
    "your_car = Car(\"Jeep\", \"Wrangler\", 2022)\n",
    "my_car.display_details()  # Output: Car Details: 2021 Toyota Corolla\n"
   ]
  },
  {
   "cell_type": "code",
   "execution_count": 3,
   "metadata": {},
   "outputs": [
    {
     "name": "stdout",
     "output_type": "stream",
     "text": [
      "500 deposited. New balance: 1500\n",
      "300 withdrawn. New balance: 1200\n",
      "1200\n"
     ]
    }
   ],
   "source": [
    "# ==========================\n",
    "# 2. Encapsulation\n",
    "# ==========================\n",
    "# Encapsulation refers to bundling data (attributes) and methods together within a class. It also controls access to them, preventing external modification.\n",
    "\n",
    "# Example: Implementing encapsulation using private variables\n",
    "class BankAccount:\n",
    "    def __init__(self, owner, balance):\n",
    "        self.owner = owner        # Public attribute\n",
    "        self.__balance = balance  # Private attribute (denoted by two underscores)\n",
    "\n",
    "    # Method to deposit money\n",
    "    def deposit(self, amount):\n",
    "        self.__balance += amount\n",
    "        print(f\"{amount} deposited. New balance: {self.__balance}\")\n",
    "\n",
    "    # Method to withdraw money\n",
    "    def withdraw(self, amount):\n",
    "        if amount > self.__balance:\n",
    "            print(\"Insufficient funds!\")\n",
    "        else:\n",
    "            self.__balance -= amount\n",
    "            print(f\"{amount} withdrawn. New balance: {self.__balance}\")\n",
    "\n",
    "    # Public method to check the balance (since __balance is private)\n",
    "    def check_balance(self):\n",
    "        return self.__balance\n",
    "\n",
    "# Creating an object of BankAccount\n",
    "account = BankAccount(\"Alice\", 1000)\n",
    "account.deposit(500)         # Deposits 500\n",
    "account.withdraw(300)        # Withdraws 300\n",
    "print(account.check_balance())  # Output: 1200\n",
    "\n",
    "# Trying to access private attribute from outside will raise an AttributeError\n",
    "# print(account.__balance)  # This will result in an error\n"
   ]
  },
  {
   "cell_type": "code",
   "execution_count": 5,
   "metadata": {},
   "outputs": [
    {
     "name": "stdout",
     "output_type": "stream",
     "text": [
      "The Jeep Renegade is starting.\n",
      "Jeep Renegade is honking.\n"
     ]
    }
   ],
   "source": [
    "# ==========================\n",
    "# 3. Inheritance\n",
    "# ==========================\n",
    "# Inheritance allows a class (child) to inherit attributes and methods from another class (parent).\n",
    "\n",
    "# Example: Creating a `Vehicle` class (parent) and a `Car` class (child) that inherits from it\n",
    "class Vehicle:\n",
    "    def __init__(self, brand, model):\n",
    "        self.brand = brand\n",
    "        self.model = model\n",
    "\n",
    "    def start(self):\n",
    "        print(f\"The {self.brand} {self.model} is starting.\")\n",
    "\n",
    "# Child class inheriting from the parent class\n",
    "class Car(Vehicle):\n",
    "    def __init__(self, brand, model, year):\n",
    "        # Call the parent class constructor using super()\n",
    "        super().__init__(brand, model)\n",
    "        self.year = year\n",
    "\n",
    "    def honk(self):\n",
    "        print(f\"{self.brand} {self.model} is honking.\")\n",
    "\n",
    "# Creating an object of Car (which inherits from Vehicle)\n",
    "my_car = Car(\"Jeep\", \"Renegade\", 2019)\n",
    "my_car.start()   # Output: The Honda Civic is starting. (inherited method)\n",
    "my_car.honk()    # Output: Honda Civic is honking. (child method)\n"
   ]
  },
  {
   "cell_type": "code",
   "execution_count": 7,
   "metadata": {},
   "outputs": [],
   "source": [
    "class Boat():\n",
    "    def __init__(self):\n",
    "        pass\n",
    "\n",
    "    def swim():\n",
    "        print('Swimming')\n",
    "\n",
    "class Car():\n",
    "    def __init__(self):\n",
    "        pass\n",
    "\n",
    "    def drive():\n",
    "        print('Drive')\n",
    "\n",
    "class OurBus(Boat, Car):\n",
    "    def __init__(self):\n",
    "        pass\n"
   ]
  },
  {
   "cell_type": "code",
   "execution_count": null,
   "metadata": {},
   "outputs": [],
   "source": []
  },
  {
   "cell_type": "code",
   "execution_count": 11,
   "metadata": {},
   "outputs": [
    {
     "ename": "TypeError",
     "evalue": "speak() missing 1 required positional argument: 'self'",
     "output_type": "error",
     "traceback": [
      "\u001b[1;31m---------------------------------------------------------------------------\u001b[0m",
      "\u001b[1;31mTypeError\u001b[0m                                 Traceback (most recent call last)",
      "Cell \u001b[1;32mIn[11], line 22\u001b[0m\n\u001b[0;32m     19\u001b[0m dog \u001b[38;5;241m=\u001b[39m Dog() \u001b[38;5;66;03m# Instantiate the class\u001b[39;00m\n\u001b[0;32m     20\u001b[0m cat \u001b[38;5;241m=\u001b[39m Cat() \u001b[38;5;66;03m# Instantiate the class\u001b[39;00m\n\u001b[1;32m---> 22\u001b[0m \u001b[43manimal_speak\u001b[49m\u001b[43m(\u001b[49m\u001b[43mDog\u001b[49m\u001b[43m)\u001b[49m  \u001b[38;5;66;03m# Output: Woof!\u001b[39;00m\n\u001b[0;32m     23\u001b[0m animal_speak(cat)  \u001b[38;5;66;03m# Output: Meow!\u001b[39;00m\n",
      "Cell \u001b[1;32mIn[11], line 17\u001b[0m, in \u001b[0;36manimal_speak\u001b[1;34m(animal)\u001b[0m\n\u001b[0;32m     16\u001b[0m \u001b[38;5;28;01mdef\u001b[39;00m \u001b[38;5;21manimal_speak\u001b[39m(animal):\n\u001b[1;32m---> 17\u001b[0m     \u001b[38;5;28mprint\u001b[39m(\u001b[43manimal\u001b[49m\u001b[38;5;241;43m.\u001b[39;49m\u001b[43mspeak\u001b[49m\u001b[43m(\u001b[49m\u001b[43m)\u001b[49m)\n",
      "\u001b[1;31mTypeError\u001b[0m: speak() missing 1 required positional argument: 'self'"
     ]
    }
   ],
   "source": [
    "# ==========================\n",
    "# 4. Polymorphism\n",
    "# ==========================\n",
    "# Polymorphism means the ability to take many forms. It allows objects of different types to be treated as instances of the same class.\n",
    "\n",
    "# Example: Different classes with a common method (polymorphism in methods)\n",
    "class Dog:\n",
    "    def speak(self):\n",
    "        return \"Woof!\"\n",
    "\n",
    "class Cat:\n",
    "    def speak(self):\n",
    "        return \"Meow!\"\n",
    "\n",
    "# A function that accepts any object with a speak method\n",
    "def animal_speak(animal):\n",
    "    print(animal.speak())\n",
    "\n",
    "dog = Dog() # Instantiate the class\n",
    "cat = Cat() # Instantiate the class\n",
    "\n",
    "animal_speak(Dog)  # Output: Woof!\n",
    "animal_speak(cat)  # Output: Meow!\n"
   ]
  },
  {
   "cell_type": "code",
   "execution_count": 21,
   "metadata": {},
   "outputs": [
    {
     "name": "stdout",
     "output_type": "stream",
     "text": [
      "Woof!\n",
      "Aaa!\n",
      "Meow!\n"
     ]
    }
   ],
   "source": [
    "# ==========================\n",
    "# 5. Abstraction\n",
    "# ==========================\n",
    "# Abstraction means hiding complex implementation details and exposing only the essential features.\n",
    "\n",
    "# Example: Using abstract classes and methods\n",
    "from abc import ABC, abstractmethod\n",
    "\n",
    "class Animal(ABC):  # ABC stands for Abstract Base Class\n",
    "    @abstractmethod\n",
    "    def make_sound(self):\n",
    "        return \"ABC\"  # Abstract method, must be implemented by subclasses\n",
    "\n",
    "class Dog(Animal):\n",
    "    def make_sound(self):\n",
    "        return \"Woof!\"\n",
    "\n",
    "    def make_noise(self):\n",
    "        return \"Aaa!\"\n",
    "\n",
    "class Cat(Animal):\n",
    "    def make_sound(self):\n",
    "        return \"Meow!\"\n",
    "\n",
    "# Trying to create an object of abstract class will result in an error\n",
    "# animal = Animal()  # Error!\n",
    "\n",
    "# Creating objects of subclasses\n",
    "dog = Dog()\n",
    "cat = Cat()\n",
    "\n",
    "# Object vs Class\n",
    "print(dog.make_sound())  # Output: Woof!\n",
    "print(dog.make_noise())\n",
    "print(cat.make_sound())  # Output: Meow!"
   ]
  },
  {
   "cell_type": "code",
   "execution_count": null,
   "metadata": {},
   "outputs": [],
   "source": []
  },
  {
   "cell_type": "code",
   "execution_count": null,
   "metadata": {},
   "outputs": [],
   "source": [
    "# ==========================\n",
    "# 6. Method Overriding\n",
    "# ==========================\n",
    "# Method overriding allows a child class to provide a specific implementation of a method that is already defined in its parent class.\n",
    "\n",
    "# Example: Overriding the `start` method in the child class\n",
    "class ElectricCar(Car):\n",
    "    def start(self):\n",
    "        print(f\"The electric {self.brand} {self.model} is silently starting.\")\n",
    "\n",
    "# Creating an object of ElectricCar\n",
    "tesla = ElectricCar(\"Tesla\", \"Model S\", 2021)\n",
    "tesla.start()  # Output: The electric Tesla Model S is silently starting."
   ]
  },
  {
   "cell_type": "code",
   "execution_count": null,
   "metadata": {},
   "outputs": [],
   "source": [
    "# ==========================\n",
    "# 7. Multiple Inheritance\n",
    "# ==========================\n",
    "# Python supports multiple inheritance, allowing a class to inherit from more than one class.\n",
    "\n",
    "# Example: Multiple inheritance\n",
    "class Flyer:\n",
    "    def fly(self):\n",
    "        print(\"Flying...\")\n",
    "\n",
    "class Swimmer:\n",
    "    def swim(self):\n",
    "        print(\"Swimming...\")\n",
    "\n",
    "# Class Duck inherits from both Flyer and Swimmer\n",
    "class Duck(Flyer, Swimmer):\n",
    "    def quack(self):\n",
    "        print(\"Quacking...\")\n",
    "\n",
    "# Creating an object of Duck\n",
    "duck = Duck()\n",
    "duck.fly()    # Output: Flying...\n",
    "duck.swim()   # Output: Swimming...\n",
    "duck.quack()  # Output: Quacking..."
   ]
  },
  {
   "cell_type": "code",
   "execution_count": 29,
   "metadata": {},
   "outputs": [
    {
     "name": "stdout",
     "output_type": "stream",
     "text": [
      "The Zen of Python, by Tim Peters\n",
      "\n",
      "Beautiful is better than ugly.\n",
      "Explicit is better than implicit.\n",
      "Simple is better than complex.\n",
      "Complex is better than complicated.\n",
      "Flat is better than nested.\n",
      "Sparse is better than dense.\n",
      "Readability counts.\n",
      "Special cases aren't special enough to break the rules.\n",
      "Although practicality beats purity.\n",
      "Errors should never pass silently.\n",
      "Unless explicitly silenced.\n",
      "In the face of ambiguity, refuse the temptation to guess.\n",
      "There should be one-- and preferably only one --obvious way to do it.\n",
      "Although that way may not be obvious at first unless you're Dutch.\n",
      "Now is better than never.\n",
      "Although never is often better than *right* now.\n",
      "If the implementation is hard to explain, it's a bad idea.\n",
      "If the implementation is easy to explain, it may be a good idea.\n",
      "Namespaces are one honking great idea -- let's do more of those!\n"
     ]
    }
   ],
   "source": [
    "import this"
   ]
  },
  {
   "cell_type": "markdown",
   "metadata": {},
   "source": [
    "## File handling\n",
    "##### File handling in Python is essential for reading from and writing to files, which is a common operation in many applications. Python provides several built-in functions and methods to handle files efficiently. Here are examples of different file handling operations with clear explanations:\n",
    "\n",
    "### 1. Opening and Closing Files\n",
    "##### Before reading or writing to a file, you must open it using the open() function. After finishing file operations, it's a good practice to close the file using the close() method.\n"
   ]
  },
  {
   "cell_type": "code",
   "execution_count": 28,
   "metadata": {},
   "outputs": [],
   "source": [
    "# Open a file in read mode ('r') and close it afterward\n",
    "file = open(file=\"example.txt\", mode=\"r\")  # Open the file in read mode\n",
    "# Perform operations (reading, etc.)\n",
    "file.close()  # Always close the file when done to release system resources\n",
    "open\n"
   ]
  },
  {
   "cell_type": "markdown",
   "metadata": {},
   "source": [
    "### 2. Writing to a File\n",
    "#### You can write text to a file using the write() method. If the file doesn’t exist, it will be created. If the file exists, the content will be overwritten unless you open the file in append mode.\n"
   ]
  },
  {
   "cell_type": "code",
   "execution_count": 31,
   "metadata": {},
   "outputs": [],
   "source": [
    "# Open a file in write mode ('w'). This will create a new file if it doesn't exist\n",
    "file = open(\"example.txt\", \"w\")  # Opening the file in write mode\n",
    "file.write(\"Hello, World!\\n\")     # Writing a line to the file\n",
    "file.write(\"This is an example of file handling in Python.\\n\")  # Writing another line\n",
    "file.close()  # Closing the file"
   ]
  },
  {
   "cell_type": "markdown",
   "metadata": {},
   "source": [
    "### 3. Appending to a File\n",
    "#### If you want to add content to the end of an existing file without overwriting it, you can use the append mode ('a')."
   ]
  },
  {
   "cell_type": "code",
   "execution_count": 32,
   "metadata": {},
   "outputs": [],
   "source": [
    "# Open the file in append mode ('a')\n",
    "file = open(file=\"example.txt\", mode=\"a\")  # Opening in append mode\n",
    "file.write(\"This is an appended line.\\n\")  # This will be added at the end of the file\n",
    "file.close()  # Closing the file"
   ]
  },
  {
   "cell_type": "markdown",
   "metadata": {},
   "source": [
    "### 4. Reading from a File\n",
    "#### To read data from a file, you can use the read() method to read the entire file, or the readline() method to read it line by line.\n"
   ]
  },
  {
   "cell_type": "code",
   "execution_count": 37,
   "metadata": {},
   "outputs": [
    {
     "name": "stdout",
     "output_type": "stream",
     "text": [
      "['Aloha', 'World!\\nThis', 'is', 'an', 'example', 'of', 'file', 'handling', 'in', 'Python.\\nThis', 'is', 'an', 'appended', 'line.\\n']\n"
     ]
    }
   ],
   "source": [
    "# Open the file in read mode ('r')\n",
    "file = open(\"example.txt\", \"r\")  # Opening in read mode\n",
    "content = file.read()  # Reading the entire content of the file\n",
    "print(content)  # Output the file content to the console\n",
    "file.close()  # Closing the file"
   ]
  },
  {
   "cell_type": "markdown",
   "metadata": {},
   "source": [
    "### 5. Using with Statement for Automatic File Handling\n",
    "#### The with statement ensures that a file is properly closed after its block of code is executed, even if an exception occurs. This is the recommended approach for file handling.\n"
   ]
  },
  {
   "cell_type": "code",
   "execution_count": null,
   "metadata": {},
   "outputs": [],
   "source": [
    "# Using 'with' to open the file, no need to call close()\n",
    "with open(\"example.txt\", \"r\") as file:\n",
    "    content = file.read()  # Read the entire file\n",
    "    print(content)  # Print the file content\n",
    "\n",
    "# No need to explicitly close the file, 'with' handles it automatically\n"
   ]
  },
  {
   "cell_type": "markdown",
   "metadata": {},
   "source": [
    "### 6. Reading a File into a List\n",
    "#### You can read all lines of a file into a list using the readlines() method.\n"
   ]
  },
  {
   "cell_type": "code",
   "execution_count": null,
   "metadata": {},
   "outputs": [],
   "source": [
    "# Using 'with' to automatically handle file closing\n",
    "with open(\"example.txt\", \"r\") as file:\n",
    "    lines = file.readlines()  # Read all lines into a list\n",
    "    for line in lines:  # Iterate over each line in the list\n",
    "        print(line.strip())  # Print each line (strip() to remove trailing newline characters)\n",
    "print(lines)\n"
   ]
  },
  {
   "cell_type": "markdown",
   "metadata": {},
   "source": [
    "### 7. Handling Exceptions during File Operations\n",
    "#### It's important to handle potential errors like file not found, permission issues, etc., using try-except blocks.\n"
   ]
  },
  {
   "cell_type": "code",
   "execution_count": null,
   "metadata": {},
   "outputs": [],
   "source": [
    "from os import File"
   ]
  },
  {
   "cell_type": "code",
   "execution_count": null,
   "metadata": {},
   "outputs": [],
   "source": [
    "try:\n",
    "    with open(\"nonexistent_file.txt\", \"r\") as file:\n",
    "        content = file.read()  # Attempt to read from a non-existent file\n",
    "except FileNotFoundError:\n",
    "    print(\"The file was not found.\")\n",
    "except IOError:\n",
    "    print(\"An I/O error occurred while accessing the file.\")\n"
   ]
  },
  {
   "cell_type": "markdown",
   "metadata": {},
   "source": [
    "File Modes in Python <br><br>\n",
    "•\t'r': Read mode (default) - Opens a file for reading (error if the file does not exist).<br>\n",
    "•\t'w': Write mode - Opens a file for writing (creates the file if it doesn't exist, overwrites if it does).<br>\n",
    "•\t'a': Append mode - Opens a file for appending (creates the file if it doesn't exist).<br>\n",
    "•\t'b': Binary mode - Opens a file in binary mode.<br>\n",
    "•\t'+': Read and write mode (e.g., 'r+', 'w+', 'a+').<br>\n"
   ]
  },
  {
   "cell_type": "code",
   "execution_count": null,
   "metadata": {},
   "outputs": [],
   "source": []
  },
  {
   "cell_type": "code",
   "execution_count": null,
   "metadata": {},
   "outputs": [],
   "source": []
  },
  {
   "cell_type": "code",
   "execution_count": null,
   "metadata": {},
   "outputs": [],
   "source": []
  },
  {
   "cell_type": "code",
   "execution_count": null,
   "metadata": {},
   "outputs": [],
   "source": []
  }
 ],
 "metadata": {
  "kernelspec": {
   "display_name": "3.9.6",
   "language": "python",
   "name": "python3"
  },
  "language_info": {
   "codemirror_mode": {
    "name": "ipython",
    "version": 3
   },
   "file_extension": ".py",
   "mimetype": "text/x-python",
   "name": "python",
   "nbconvert_exporter": "python",
   "pygments_lexer": "ipython3",
   "version": "3.9.6"
  }
 },
 "nbformat": 4,
 "nbformat_minor": 2
}
