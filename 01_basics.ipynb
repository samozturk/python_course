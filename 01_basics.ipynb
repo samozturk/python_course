{
 "cells": [
  {
   "cell_type": "markdown",
   "metadata": {},
   "source": [
    "## Development of the Python Programming Language\n",
    "1. The Origin of Python\n",
    "Developer: Guido van Rossum, a **Dutch** programmer, is the creator of Python.\n",
    "Inspiration: Python was inspired by the ABC programming language, which was designed for teaching and prototyping but lacked certain features like exception handling and the ability to interface with the operating system. Guido wanted to create a language that combined the strengths of ABC with more powerful and flexible capabilities. \n",
    "<br><br>\n",
    "2. Initial Development\n",
    "Timeline:\n",
    "Guido began working on Python in December 1989 while at the Centrum Wiskunde & Informatica (CWI) in the Netherlands.\n",
    "The first version, Python 0.9.0, was released in February 1991.\n",
    "Features of Python 0.9.0:\n",
    "It included core concepts like exception handling, functions, and the core data types: str, list, dict, and others.\n",
    "Modules were also introduced in this version, allowing the reuse of code and modular programming.\n",
    "<br><br>\n",
    "3. Naming of Python\n",
    "Guido named the language \"Python\" as a tribute to the British comedy group Monty Python, not after the snake. He was reading the script for \"Monty Python's Flying Circus\" while developing the language and wanted a name that was short, unique, and slightly mysterious.\n",
    "<br><br>\n",
    "4. Purpose of Development\n",
    "Guido wanted to create a language that was:\n",
    "Easy to Read and Write: Emphasizing code readability with clear syntax.\n",
    "High-Level: Abstracting complex details of the computer's operation.\n",
    "Flexible and Extensible: Suitable for a variety of applications, from scripting to full-scale application development.\n",
    "Interactive and Interpreted: Allowing users to quickly test and execute code.\n",
    "<br><br>\n",
    "5. Key Milestones in Python's Evolution\n",
    "1994: Python 1.0 was released, featuring functional programming tools like lambda, map(), filter(), and reduce().\n",
    "2000: Python 2.0 was introduced, adding list comprehensions, garbage collection, and the dict constructor.\n",
    "2008: Python 3.0, a major revision, was released to rectify inconsistencies in the language and improve overall design. It was not backward compatible with Python 2.x, which led to a long period of transition and dual-version support.\n",
    "<br><br>\n",
    "6. Community and Open Source\n",
    "Python has always been an open-source project, with contributions from a global community of developers.\n",
    "Python Software Foundation (PSF): Established in 2001, the PSF manages the open-source licensing and ongoing development of Python.\n",
    "<br><br>\n",
    "7. Why Python Became Popular\n",
    "Simplicity and Readability: Its clean and readable syntax makes it an excellent language for beginners and professionals alike.\n",
    "Versatility: Used in various domains such as web development, data science, automation, scientific computing, artificial intelligence, and more.\n",
    "Extensive Libraries and Community Support: A vast ecosystem of libraries and a supportive community help developers solve almost any problem using Python.\n",
    "<br><br>\n",
    "8. Current Status\n",
    "Python is one of the most popular programming languages worldwide, driven by its extensive use in data science, machine learning, and web development.\n",
    "It continues to evolve with regular updates and an active community contributing to its development.\n",
    "Leadership and Governance\n",
    "Guido van Rossum served as Python's \"Benevolent Dictator For Life\" (BDFL), overseeing its development until he stepped down from the role in 2018.\n",
    "Today, Python’s development is managed by the Python Steering Council, ensuring the language continues to grow and meet the needs of its diverse user base."
   ]
  },
  {
   "cell_type": "markdown",
   "metadata": {},
   "source": [
    "# Data Types\n",
    "### Python supports various data types such as int, float, str, list, tuple, set, and dict."
   ]
  },
  {
   "cell_type": "code",
   "execution_count": null,
   "metadata": {},
   "outputs": [],
   "source": [
    "# Example: Different Data Types in Python\n",
    "bool_example = True\n",
    "integer_example = 10  # Integer type\n",
    "float_example = 10.5  # Float type\n",
    "string_example = \"Hello, Java\"  # String type\n"
   ]
  },
  {
   "cell_type": "code",
   "execution_count": null,
   "metadata": {},
   "outputs": [],
   "source": [
    "f_string_example = f\"My message: {string_example}\"\n",
    "print(f_string_example)"
   ]
  },
  {
   "cell_type": "code",
   "execution_count": null,
   "metadata": {},
   "outputs": [],
   "source": [
    "# You can also cast/convert\n",
    "int_to_float = float(integer_example)\n",
    "print(f\"integer: {integer_example} , converted to float: {int_to_float}\")\n",
    "\n",
    "\n",
    "list_example = [1, 2, 3, 4, 5]  # List type\n",
    "tuple_example = (1, 2, 3, 4, 5)  # Tuple type\n",
    "set_example = {1, 2, 3, 4, 5}  # Set type\n",
    "dict_example = {\"name\": \"Sam\", \"age\": 35}  # Dictionary type"
   ]
  },
  {
   "cell_type": "code",
   "execution_count": null,
   "metadata": {},
   "outputs": [],
   "source": [
    "# BONUS, ascii to str\n",
    "chr(65)"
   ]
  },
  {
   "cell_type": "code",
   "execution_count": null,
   "metadata": {},
   "outputs": [],
   "source": []
  },
  {
   "cell_type": "code",
   "execution_count": null,
   "metadata": {},
   "outputs": [],
   "source": [
    "# String methods\n",
    "str_list = [1, 2, 3]\n",
    "join_examples = ','.join(str_list) \n",
    "print(join_examples)\n",
    "print(type(join_examples))\n",
    "\n",
    "\n",
    "split_examples = join_examples.split(',')\n",
    "print(split_examples)\n",
    "print(type(split_examples))"
   ]
  },
  {
   "cell_type": "code",
   "execution_count": null,
   "metadata": {},
   "outputs": [],
   "source": [
    "list_example.append()"
   ]
  },
  {
   "cell_type": "code",
   "execution_count": null,
   "metadata": {},
   "outputs": [],
   "source": [
    "# List methods\n",
    "list_example.append(6)\n",
    "print(list_example)\n",
    "list_example.remove(6)\n",
    "print(list_example)\n",
    "\n",
    "lost_element = list_example.pop()\n",
    "print(lost_element)\n",
    "print(list_example)\n",
    "\n",
    "list_example.insert(1, \"a\")\n",
    "print(list_example)"
   ]
  },
  {
   "cell_type": "code",
   "execution_count": null,
   "metadata": {},
   "outputs": [],
   "source": [
    "# Operators\n",
    "# Python includes arithmetic, comparison, logical, bitwise, assignment, identity, and membership operators.\n",
    "\n",
    "# Example: Arithmetic Operators\n",
    "sum_example = 10 + 5  # Addition\n",
    "difference_example = 10 - 5  # Subtraction\n",
    "product_example = 10 * 5  # Multiplication\n",
    "division_example = 10 / 5  # Division\n",
    "\n",
    "floor_division = 13 // 5\n",
    "print(floor_division) # 2\n",
    "\n",
    "modulus_example = 11 % 5\n",
    "print(modulus_example) \n",
    "\n",
    "exp_example = 3 ** 2\n",
    "print(exp_example)\n",
    "\n",
    "and_example = True and False\n",
    "or_example = True or False\n",
    "\n",
    "gt_example = 5 != 10\n",
    "print(gt_example)"
   ]
  },
  {
   "cell_type": "code",
   "execution_count": null,
   "metadata": {},
   "outputs": [],
   "source": []
  },
  {
   "cell_type": "code",
   "execution_count": null,
   "metadata": {},
   "outputs": [],
   "source": [
    "# What happens if you sum to str?\n",
    "string_sum_example = string_example + \" from The Hague\"\n",
    "print(string_sum_example)"
   ]
  },
  {
   "cell_type": "code",
   "execution_count": null,
   "metadata": {},
   "outputs": [],
   "source": [
    "# is and == operator\n",
    "list_example_2 = list(list_example)\n",
    "\n",
    "print(f'''list example: {list_example},\n",
    "list example 2: {list_example_2}''') # multi-line strings\n",
    "\n",
    "print(list_example_2 == list_example)"
   ]
  },
  {
   "cell_type": "code",
   "execution_count": null,
   "metadata": {},
   "outputs": [],
   "source": [
    "print(list_example is list_example_2)"
   ]
  },
  {
   "cell_type": "markdown",
   "metadata": {},
   "source": [
    "## Conditionals, Loops"
   ]
  },
  {
   "cell_type": "code",
   "execution_count": null,
   "metadata": {},
   "outputs": [],
   "source": [
    "# Conditional Statement\n",
    "# if, elif, else are used for decision-making based on conditions.\n",
    "\n",
    "# Example: Conditional Statement\n",
    "age = 18\n",
    "if age := 18 + 1:\n",
    "    print(\"Eligible to vote\")\n",
    "elif age == 18:\n",
    "    print(\"Still eligible to vote\") \n",
    "elif age > 65:\n",
    "    print('too old to vote')\n",
    "else:\n",
    "    print(\"Not eligible to vote\")"
   ]
  },
  {
   "cell_type": "code",
   "execution_count": null,
   "metadata": {},
   "outputs": [],
   "source": [
    "# Looping Statement\n",
    "# Python supports loops like for and while for iterative execution.\n",
    "\n",
    "# Example: For Loop\n",
    "for i in range(5):\n",
    "    print(f\"Loop iteration {i}\")"
   ]
  },
  {
   "cell_type": "code",
   "execution_count": null,
   "metadata": {},
   "outputs": [],
   "source": [
    "nn = ['a', 'b', 'c']\n",
    "caps = ['A', 'B', 'C', 'D']\n",
    "\n",
    "my_dict = dict()\n",
    "for letter in nn:\n",
    "    print(letter)\n"
   ]
  },
  {
   "cell_type": "markdown",
   "metadata": {},
   "source": [
    "## Functions"
   ]
  },
  {
   "cell_type": "code",
   "execution_count": null,
   "metadata": {},
   "outputs": [],
   "source": [
    "# Functions\n",
    "# Functions are reusable blocks of code that perform a specific task.\n",
    "\n",
    "# Example: Function Definition\n",
    "def greet(name):\n",
    "    \"\"\"This function greets a person.\"\"\"\n",
    "    return f\"Hello, {name}!\"\n",
    "\n",
    "print(greet(\"Alice\"))"
   ]
  },
  {
   "cell_type": "code",
   "execution_count": null,
   "metadata": {},
   "outputs": [],
   "source": [
    "# Global and local variables\n",
    "def int(number):\n",
    "    return number + \"1\"\n"
   ]
  },
  {
   "cell_type": "code",
   "execution_count": null,
   "metadata": {},
   "outputs": [],
   "source": []
  },
  {
   "cell_type": "markdown",
   "metadata": {},
   "source": [
    "## Object-Oriented Programming (OOP) in Python\n",
    "\n",
    "##### OOP is a programming paradigm based on the concept of objects, which can contain both data (attributes) and methods (functions).\n",
    "#### The four main pillars of OOP are:\n",
    "### 1. Encapsulation\n",
    "### 2. Abstraction\n",
    "### 3. Inheritance\n",
    "### 4. Polymorphism"
   ]
  },
  {
   "cell_type": "code",
   "execution_count": null,
   "metadata": {},
   "outputs": [],
   "source": [
    "# ==========================\n",
    "# 1. Classes and Objects\n",
    "# ==========================\n",
    "# A class is a blueprint for creating objects. An object is an instance of a class.\n",
    "\n",
    "# Example: Creating a simple class `Car` with attributes and methods.\n",
    "class Car:\n",
    "    # __init__ is the constructor method in Python. It initializes the object's state.\n",
    "    def __init__(self, brand, model, year):\n",
    "        # `self` is a reference to the current object. It allows the class to access its own attributes and methods.\n",
    "        self.brand = brand  # Attribute: brand of the car\n",
    "        self.model = model  # Attribute: model of the car\n",
    "        self.year = year    # Attribute: year of manufacture\n",
    "\n",
    "    # Method to display car details\n",
    "    def display_details(self):\n",
    "        print(f\"Car Details: {self.year} {self.brand} {self.model}\")\n",
    "        "
   ]
  },
  {
   "cell_type": "code",
   "execution_count": null,
   "metadata": {},
   "outputs": [],
   "source": [
    "# Creating an object of the class\n",
    "my_car = Car(\"Toyota\", \"Corolla\", 2021)\n",
    "your_car = Car(\"Jeep\", \"Wrangler\", 2022)\n",
    "my_car.display_details()  # Output: Car Details: 2021 Toyota Corolla\n"
   ]
  },
  {
   "cell_type": "code",
   "execution_count": null,
   "metadata": {},
   "outputs": [],
   "source": [
    "# ==========================\n",
    "# 2. Encapsulation\n",
    "# ==========================\n",
    "# Encapsulation refers to bundling data (attributes) and methods together within a class. It also controls access to them, preventing external modification.\n",
    "\n",
    "# Example: Implementing encapsulation using private variables\n",
    "class BankAccount:\n",
    "    def __init__(self, owner, balance):\n",
    "        self.owner = owner        # Public attribute\n",
    "        self.__balance = balance  # Private attribute (denoted by two underscores)\n",
    "\n",
    "    # Method to deposit money\n",
    "    def deposit(self, amount):\n",
    "        self.__balance += amount\n",
    "        print(f\"{amount} deposited. New balance: {self.__balance}\")\n",
    "\n",
    "    # Method to withdraw money\n",
    "    def withdraw(self, amount):\n",
    "        if amount > self.__balance:\n",
    "            print(\"Insufficient funds!\")\n",
    "        else:\n",
    "            self.__balance -= amount\n",
    "            print(f\"{amount} withdrawn. New balance: {self.__balance}\")\n",
    "\n",
    "    # Public method to check the balance (since __balance is private)\n",
    "    def check_balance(self):\n",
    "        return self.__balance\n",
    "\n",
    "# Creating an object of BankAccount\n",
    "account = BankAccount(\"Alice\", 1000)\n",
    "account.deposit(500)         # Deposits 500\n",
    "account.withdraw(300)        # Withdraws 300\n",
    "print(account.check_balance())  # Output: 1200\n",
    "\n",
    "# Trying to access private attribute from outside will raise an AttributeError\n",
    "# print(account.__balance)  # This will result in an error\n"
   ]
  },
  {
   "cell_type": "code",
   "execution_count": null,
   "metadata": {},
   "outputs": [],
   "source": [
    "# ==========================\n",
    "# 3. Inheritance\n",
    "# ==========================\n",
    "# Inheritance allows a class (child) to inherit attributes and methods from another class (parent).\n",
    "\n",
    "# Example: Creating a `Vehicle` class (parent) and a `Car` class (child) that inherits from it\n",
    "class Vehicle:\n",
    "    def __init__(self, brand, model):\n",
    "        self.brand = brand\n",
    "        self.model = model\n",
    "\n",
    "    def start(self):\n",
    "        print(f\"The {self.brand} {self.model} is starting.\")\n",
    "\n",
    "# Child class inheriting from the parent class\n",
    "class Car(Vehicle):\n",
    "    def __init__(self, brand, model, year):\n",
    "        # Call the parent class constructor using super()\n",
    "        super().__init__(brand, model)\n",
    "        self.year = year\n",
    "\n",
    "    def honk(self):\n",
    "        print(f\"{self.brand} {self.model} is honking.\")\n",
    "\n",
    "# Creating an object of Car (which inherits from Vehicle)\n",
    "my_car = Car(\"Jeep\", \"Renegade\", 2019)\n",
    "my_car.start()   # Output: The Honda Civic is starting. (inherited method)\n",
    "my_car.honk()    # Output: Honda Civic is honking. (child method)\n"
   ]
  },
  {
   "cell_type": "code",
   "execution_count": null,
   "metadata": {},
   "outputs": [],
   "source": [
    "class Boat():\n",
    "    def __init__(self):\n",
    "        pass\n",
    "\n",
    "    def swim():\n",
    "        print('Swimming')\n",
    "\n",
    "class Car():\n",
    "    def __init__(self):\n",
    "        pass\n",
    "\n",
    "    def drive():\n",
    "        print('Drive')\n",
    "\n",
    "class OurBus(Boat, Car):\n",
    "    def __init__(self):\n",
    "        pass\n"
   ]
  },
  {
   "cell_type": "code",
   "execution_count": null,
   "metadata": {},
   "outputs": [],
   "source": []
  },
  {
   "cell_type": "code",
   "execution_count": null,
   "metadata": {},
   "outputs": [],
   "source": [
    "# ==========================\n",
    "# 4. Polymorphism\n",
    "# ==========================\n",
    "# Polymorphism means the ability to take many forms. It allows objects of different types to be treated as instances of the same class.\n",
    "\n",
    "# Example: Different classes with a common method (polymorphism in methods)\n",
    "class Dog:\n",
    "    def speak(self):\n",
    "        return \"Woof!\"\n",
    "\n",
    "class Cat:\n",
    "    def speak(self):\n",
    "        return \"Meow!\"\n",
    "\n",
    "# A function that accepts any object with a speak method\n",
    "def animal_speak(animal):\n",
    "    print(animal.speak())\n",
    "\n",
    "dog = Dog() # Instantiate the class\n",
    "cat = Cat() # Instantiate the class\n",
    "\n",
    "animal_speak(Dog)  # Output: Woof!\n",
    "animal_speak(cat)  # Output: Meow!\n"
   ]
  },
  {
   "cell_type": "code",
   "execution_count": null,
   "metadata": {},
   "outputs": [],
   "source": [
    "# ==========================\n",
    "# 5. Abstraction\n",
    "# ==========================\n",
    "# Abstraction means hiding complex implementation details and exposing only the essential features.\n",
    "\n",
    "# Example: Using abstract classes and methods\n",
    "from abc import ABC, abstractmethod\n",
    "\n",
    "class Animal(ABC):  # ABC stands for Abstract Base Class\n",
    "    @abstractmethod\n",
    "    def make_sound(self):\n",
    "        return \"ABC\"  # Abstract method, must be implemented by subclasses\n",
    "\n",
    "class Dog(Animal):\n",
    "    def make_sound(self):\n",
    "        return \"Woof!\"\n",
    "\n",
    "    def make_noise(self):\n",
    "        return \"Aaa!\"\n",
    "\n",
    "class Cat(Animal):\n",
    "    def make_sound(self):\n",
    "        return \"Meow!\"\n",
    "\n",
    "# Trying to create an object of abstract class will result in an error\n",
    "# animal = Animal()  # Error!\n",
    "\n",
    "# Creating objects of subclasses\n",
    "dog = Dog()\n",
    "cat = Cat()\n",
    "\n",
    "# Object vs Class\n",
    "print(dog.make_sound())  # Output: Woof!\n",
    "print(dog.make_noise())\n",
    "print(cat.make_sound())  # Output: Meow!"
   ]
  },
  {
   "cell_type": "code",
   "execution_count": null,
   "metadata": {},
   "outputs": [],
   "source": []
  },
  {
   "cell_type": "code",
   "execution_count": null,
   "metadata": {},
   "outputs": [],
   "source": [
    "# ==========================\n",
    "# 6. Method Overriding\n",
    "# ==========================\n",
    "# Method overriding allows a child class to provide a specific implementation of a method that is already defined in its parent class.\n",
    "\n",
    "# Example: Overriding the `start` method in the child class\n",
    "class ElectricCar(Car):\n",
    "    def start(self):\n",
    "        print(f\"The electric {self.brand} {self.model} is silently starting.\")\n",
    "\n",
    "# Creating an object of ElectricCar\n",
    "tesla = ElectricCar(\"Tesla\", \"Model S\", 2021)\n",
    "tesla.start()  # Output: The electric Tesla Model S is silently starting."
   ]
  },
  {
   "cell_type": "code",
   "execution_count": null,
   "metadata": {},
   "outputs": [],
   "source": [
    "# ==========================\n",
    "# 7. Multiple Inheritance\n",
    "# ==========================\n",
    "# Python supports multiple inheritance, allowing a class to inherit from more than one class.\n",
    "\n",
    "# Example: Multiple inheritance\n",
    "class Flyer:\n",
    "    def fly(self):\n",
    "        print(\"Flying...\")\n",
    "\n",
    "class Swimmer:\n",
    "    def swim(self):\n",
    "        print(\"Swimming...\")\n",
    "\n",
    "# Class Duck inherits from both Flyer and Swimmer\n",
    "class Duck(Flyer, Swimmer):\n",
    "    def quack(self):\n",
    "        print(\"Quacking...\")\n",
    "\n",
    "# Creating an object of Duck\n",
    "duck = Duck()\n",
    "duck.fly()    # Output: Flying...\n",
    "duck.swim()   # Output: Swimming...\n",
    "duck.quack()  # Output: Quacking..."
   ]
  },
  {
   "cell_type": "code",
   "execution_count": null,
   "metadata": {},
   "outputs": [],
   "source": [
    "import this"
   ]
  },
  {
   "cell_type": "markdown",
   "metadata": {},
   "source": [
    "## File handling\n",
    "##### File handling in Python is essential for reading from and writing to files, which is a common operation in many applications. Python provides several built-in functions and methods to handle files efficiently. Here are examples of different file handling operations with clear explanations:\n",
    "\n",
    "### 1. Opening and Closing Files\n",
    "##### Before reading or writing to a file, you must open it using the open() function. After finishing file operations, it's a good practice to close the file using the close() method.\n"
   ]
  },
  {
   "cell_type": "code",
   "execution_count": null,
   "metadata": {},
   "outputs": [],
   "source": [
    "# Open a file in read mode ('r') and close it afterward\n",
    "file = open(file=\"example.txt\", mode=\"r\")  # Open the file in read mode\n",
    "# Perform operations (reading, etc.)\n",
    "file.close()  # Always close the file when done to release system resources\n",
    "open\n"
   ]
  },
  {
   "cell_type": "markdown",
   "metadata": {},
   "source": [
    "### 2. Writing to a File\n",
    "#### You can write text to a file using the write() method. If the file doesn’t exist, it will be created. If the file exists, the content will be overwritten unless you open the file in append mode.\n"
   ]
  },
  {
   "cell_type": "code",
   "execution_count": null,
   "metadata": {},
   "outputs": [],
   "source": [
    "# Open a file in write mode ('w'). This will create a new file if it doesn't exist\n",
    "file = open(\"example.txt\", \"w\")  # Opening the file in write mode\n",
    "file.write(\"Hello, World!\\n\")     # Writing a line to the file\n",
    "file.write(\"This is an example of file handling in Python.\\n\")  # Writing another line\n",
    "file.close()  # Closing the file"
   ]
  },
  {
   "cell_type": "markdown",
   "metadata": {},
   "source": [
    "### 3. Appending to a File\n",
    "#### If you want to add content to the end of an existing file without overwriting it, you can use the append mode ('a')."
   ]
  },
  {
   "cell_type": "code",
   "execution_count": null,
   "metadata": {},
   "outputs": [],
   "source": [
    "# Open the file in append mode ('a')\n",
    "file = open(file=\"example.txt\", mode=\"a\")  # Opening in append mode\n",
    "file.write(\"This is an appended line.\\n\")  # This will be added at the end of the file\n",
    "file.close()  # Closing the file"
   ]
  },
  {
   "cell_type": "markdown",
   "metadata": {},
   "source": [
    "### 4. Reading from a File\n",
    "#### To read data from a file, you can use the read() method to read the entire file, or the readline() method to read it line by line.\n"
   ]
  },
  {
   "cell_type": "code",
   "execution_count": null,
   "metadata": {},
   "outputs": [],
   "source": [
    "# Open the file in read mode ('r')\n",
    "file = open(\"example.txt\", \"r\")  # Opening in read mode\n",
    "content = file.read()  # Reading the entire content of the file\n",
    "print(content)  # Output the file content to the console\n",
    "file.close()  # Closing the file"
   ]
  },
  {
   "cell_type": "markdown",
   "metadata": {},
   "source": [
    "### 5. Using with Statement for Automatic File Handling\n",
    "#### The with statement ensures that a file is properly closed after its block of code is executed, even if an exception occurs. This is the recommended approach for file handling.\n"
   ]
  },
  {
   "cell_type": "code",
   "execution_count": null,
   "metadata": {},
   "outputs": [],
   "source": [
    "# Using 'with' to open the file, no need to call close()\n",
    "with open(\"example.txt\", \"r\") as file:\n",
    "    content = file.read()  # Read the entire file\n",
    "    print(content)  # Print the file content\n",
    "\n",
    "# No need to explicitly close the file, 'with' handles it automatically\n"
   ]
  },
  {
   "cell_type": "markdown",
   "metadata": {},
   "source": [
    "### 6. Reading a File into a List\n",
    "#### You can read all lines of a file into a list using the readlines() method.\n"
   ]
  },
  {
   "cell_type": "code",
   "execution_count": null,
   "metadata": {},
   "outputs": [],
   "source": [
    "# Using 'with' to automatically handle file closing\n",
    "with open(\"example.txt\", \"r\") as file:\n",
    "    lines = file.readlines()  # Read all lines into a list\n",
    "    for line in lines:  # Iterate over each line in the list\n",
    "        print(line.strip())  # Print each line (strip() to remove trailing newline characters)\n",
    "print(lines)\n"
   ]
  },
  {
   "cell_type": "markdown",
   "metadata": {},
   "source": [
    "### 7. Handling Exceptions during File Operations\n",
    "#### It's important to handle potential errors like file not found, permission issues, etc., using try-except blocks.\n"
   ]
  },
  {
   "cell_type": "code",
   "execution_count": null,
   "metadata": {},
   "outputs": [],
   "source": [
    "from os import File"
   ]
  },
  {
   "cell_type": "code",
   "execution_count": null,
   "metadata": {},
   "outputs": [],
   "source": [
    "try:\n",
    "    with open(\"nonexistent_file.txt\", \"r\") as file:\n",
    "        content = file.read()  # Attempt to read from a non-existent file\n",
    "except FileNotFoundError:\n",
    "    print(\"The file was not found.\")\n",
    "except IOError:\n",
    "    print(\"An I/O error occurred while accessing the file.\")\n",
    "else:\n",
    "    print(\"All other stuff.\")\n",
    "finally:\n",
    "    print('Finally, we are done.')\n"
   ]
  },
  {
   "cell_type": "markdown",
   "metadata": {},
   "source": [
    "File Modes in Python <br><br>\n",
    "•\t'r': Read mode (default) - Opens a file for reading (error if the file does not exist).<br>\n",
    "•\t'w': Write mode - Opens a file for writing (creates the file if it doesn't exist, overwrites if it does).<br>\n",
    "•\t'a': Append mode - Opens a file for appending (creates the file if it doesn't exist).<br>\n",
    "•\t'b': Binary mode - Opens a file in binary mode.<br>\n",
    "•\t'+': Read and write mode (e.g., 'r+', 'w+', 'a+').<br>\n"
   ]
  },
  {
   "cell_type": "markdown",
   "metadata": {},
   "source": [
    "In Python, *args and **kwargs are used to pass a variable number of arguments to a function. They provide flexibility, allowing you to handle any number of positional or keyword arguments, respectively. <br><br>\n",
    "\n",
    "*args (Positional Arguments)<br>\n",
    "*args allows you to pass a variable number of positional arguments to a function. It collects all additional positional arguments into a tuple.<br>\n",
    "You can use it when you're not sure how many arguments a function will receive.<br><br>\n",
    "\n",
    "**kwargs (Keyword Arguments)<br>\n",
    "**kwargs allows you to pass a variable number of keyword arguments (i.e., named arguments) to a function. It collects all additional keyword arguments into a dictionary.<br>\n",
    "It’s useful when you want to accept a set of named arguments that you don't explicitly define in the function signature.<br>"
   ]
  },
  {
   "cell_type": "code",
   "execution_count": 19,
   "metadata": {},
   "outputs": [
    {
     "name": "stdout",
     "output_type": "stream",
     "text": [
      "Order for Eric:\n",
      "Items: \n",
      "Order confirmed!\n",
      "\n"
     ]
    }
   ],
   "source": [
    "def process_order(customer_name=\"Eric\", *items, **options):\n",
    "    print(f\"Order for {customer_name}:\")\n",
    "    \n",
    "    # Listing items ordered\n",
    "    print(\"Items:\", \", \".join(items))\n",
    "    \n",
    "    # Displaying additional options if provided\n",
    "    for key, value in options.items():\n",
    "        print(f\"{key.capitalize()}: {value}\")\n",
    "    \n",
    "    print(\"Order confirmed!\\n\")\n",
    "\n",
    "# Example usage\n",
    "# process_order(customer_name=\"John Doe\", \"Laptop\", \"Mouse\", shipping=\"Express\", discount=\"10%\")\n",
    "# process_order(customer_name=\"Jane Smith\", \"Book\", \"Headphones\", shipping=\"Standard\", promo_code=\"SAVE10\")\n",
    "process_order()"
   ]
  },
  {
   "cell_type": "markdown",
   "metadata": {},
   "source": [
    "Value unpacking"
   ]
  },
  {
   "cell_type": "code",
   "execution_count": 35,
   "metadata": {},
   "outputs": [
    {
     "name": "stdout",
     "output_type": "stream",
     "text": [
      "1\n",
      "[2, 3, 4, 5]\n"
     ]
    }
   ],
   "source": [
    "numbers = [1, 2, 3, 4, 5]\n",
    "first, *rest = numbers\n",
    "\n",
    "print(first)  # Output: 1\n",
    "print(rest)   # Output: [2, 3, 4, 5]"
   ]
  },
  {
   "cell_type": "markdown",
   "metadata": {},
   "source": [
    "Key points: <br>\n",
    "*items handles the variable number of items.<br>\n",
    "**options handles extra order options like shipping or promo_code. This example is short but demonstrates how *args and **kwargs are used in a flexible way for real-world scenarios.<br>"
   ]
  },
  {
   "cell_type": "markdown",
   "metadata": {},
   "source": [
    "## Iterators\n",
    "In Python, an iterator is an object that allows you to traverse through all the elements of a collection (like lists, tuples, or dictionaries) one element at a time. An iterator object implements two methods: <br>\n",
    "<br>\n",
    "__iter__(): This method returns the iterator object itself.<br>\n",
    "__next__(): This method returns the next value from the collection until there are no more items, at which point it raises a StopIteration exception.<br><br>\n",
    "How Iterators Work<br>\n",
    "Iterable: Any object that can return an iterator (e.g., lists, strings) is called an iterable.<br>\n",
    "Iterator: An object with methods __iter__() and __next__() that allows iteration over the iterable.<br>"
   ]
  },
  {
   "cell_type": "code",
   "execution_count": 39,
   "metadata": {},
   "outputs": [
    {
     "name": "stdout",
     "output_type": "stream",
     "text": [
      "1\n",
      "2\n",
      "3\n",
      "4\n",
      "5\n"
     ]
    }
   ],
   "source": [
    "class MyNumbers:\n",
    "    def __init__(self, start, end):\n",
    "        self.current = start\n",
    "        self.end = end\n",
    "\n",
    "    def __iter__(self):\n",
    "        \"\"\"\n",
    "        Returns the iterator object itself. This allows the class instance to be used in a for loop.\n",
    "        \"\"\"\n",
    "        return self  # The class instance is the iterator itself\n",
    "\n",
    "    def __next__(self):\n",
    "        \"\"\"\n",
    "        Returns the next value in the sequence of numbers. If the current value is less than or equal to the end value, \n",
    "        it returns the current value and increments it for the next call. Otherwise, \n",
    "        it raises a StopIteration exception to indicate the end of the iteration.\n",
    "        \"\"\"\n",
    "                \n",
    "        if self.current <= self.end:\n",
    "            value = self.current\n",
    "            self.current += 1  # Increment the current value for the next call\n",
    "            return value\n",
    "        else:\n",
    "            raise StopIteration  # Raise this when iteration is complete\n",
    "\n",
    "# Create an instance of the custom iterator\n",
    "numbers = MyNumbers(1, 5)\n",
    "\n",
    "# Use the iterator in a for loop\n",
    "for num in numbers:\n",
    "    print(num)"
   ]
  },
  {
   "cell_type": "markdown",
   "metadata": {},
   "source": [
    "## Python Generators"
   ]
  },
  {
   "cell_type": "code",
   "execution_count": 60,
   "metadata": {},
   "outputs": [
    {
     "name": "stdout",
     "output_type": "stream",
     "text": [
      "1\n",
      "2\n",
      "3\n",
      "4\n",
      "5\n"
     ]
    }
   ],
   "source": [
    "def count_up_to(max):\n",
    "    count = 1\n",
    "    while count <= max:\n",
    "        yield count  # Yields the current value of count\n",
    "        count += 1  # Increment count for the next iteration\n",
    "\n",
    "# Create a generator object\n",
    "counter = count_up_to(5)\n",
    "\n",
    "# Iterate over the generator object\n",
    "for num in counter:\n",
    "    print(num)"
   ]
  },
  {
   "cell_type": "code",
   "execution_count": 59,
   "metadata": {},
   "outputs": [
    {
     "data": {
      "text/plain": [
       "generator"
      ]
     },
     "execution_count": 59,
     "metadata": {},
     "output_type": "execute_result"
    }
   ],
   "source": [
    "type(counter)"
   ]
  },
  {
   "cell_type": "markdown",
   "metadata": {},
   "source": [
    "A generator in Python is a function that behaves like an iterator. It allows you to iterate over a sequence of values lazily, meaning that the values are produced only when needed, which makes them more memory-efficient compared to storing all the values in memory upfront.<br>\n",
    "\n",
    "Generators are defined using the yield keyword instead of return. When a generator function is called, it doesn’t execute immediately; instead, it returns a generator object, which can be iterated over (using next() or a for loop) to produce values on the fly.<br><br>\n",
    "\n",
    "How Generators Work:<br>\n",
    "yield: Suspends the function's state and remembers the point of execution so it can be resumed later. Each time yield is encountered, it returns the value to the caller but saves the function’s state for the next call.<br>\n",
    "Lazy Evaluation: Only one item is produced at a time, making it memory efficient.<br>"
   ]
  },
  {
   "cell_type": "code",
   "execution_count": null,
   "metadata": {},
   "outputs": [],
   "source": [
    "# Create a large file\n",
    "with open('large_file.txt', 'w') as file:\n",
    "    for i in range(1000000):\n",
    "        file.write(f'This is line {i}\\n')"
   ]
  },
  {
   "cell_type": "code",
   "execution_count": 68,
   "metadata": {},
   "outputs": [],
   "source": [
    "def read_large_file(file_name):\n",
    "    lines_list = []\n",
    "    with open(file_name, \"r\") as file:        \n",
    "        for line in file:\n",
    "            yield line.strip()  # Yield one line at a time\n",
    "        #     lines_list.append(line.strip())\n",
    "        # return lines_list\n",
    "\n",
    "# Usage\n",
    "file_generator = read_large_file(\"large_file.txt\")"
   ]
  },
  {
   "cell_type": "code",
   "execution_count": 69,
   "metadata": {},
   "outputs": [
    {
     "data": {
      "text/plain": [
       "<generator object read_large_file at 0x0000026C69041CF0>"
      ]
     },
     "execution_count": 69,
     "metadata": {},
     "output_type": "execute_result"
    }
   ],
   "source": [
    "print(file_generator)"
   ]
  },
  {
   "cell_type": "code",
   "execution_count": null,
   "metadata": {},
   "outputs": [],
   "source": [
    "# Process the file line by line\n",
    "for line in file_generator:\n",
    "    print(line)"
   ]
  },
  {
   "cell_type": "code",
   "execution_count": 76,
   "metadata": {},
   "outputs": [
    {
     "name": "stdout",
     "output_type": "stream",
     "text": [
      "<generator object <genexpr> at 0x0000026C69318120>\n"
     ]
    }
   ],
   "source": [
    "\n",
    "even_generator = (i for i in range(10) if i % 2 == 0)\n",
    "print(even_generator)"
   ]
  },
  {
   "cell_type": "code",
   "execution_count": 78,
   "metadata": {},
   "outputs": [
    {
     "data": {
      "text/plain": [
       "0"
      ]
     },
     "execution_count": 78,
     "metadata": {},
     "output_type": "execute_result"
    }
   ],
   "source": [
    "next(even_generator)"
   ]
  },
  {
   "cell_type": "code",
   "execution_count": null,
   "metadata": {},
   "outputs": [],
   "source": []
  },
  {
   "cell_type": "code",
   "execution_count": 82,
   "metadata": {},
   "outputs": [
    {
     "name": "stdout",
     "output_type": "stream",
     "text": [
      "<class 'int'>\n",
      "1\n",
      "4\n",
      "9\n",
      "16\n",
      "25\n"
     ]
    }
   ],
   "source": [
    "# Create a generator expression to generate squares of numbers\n",
    "squares = (x * x for x in range(1, 6))\n",
    "print(type(squares))\n",
    "# Iterate over the generator expression\n",
    "for square in squares:\n",
    "    print(square)"
   ]
  },
  {
   "cell_type": "markdown",
   "metadata": {},
   "source": [
    "Generator Expression: The expression (x * x for x in range(1, 6)) creates a generator that yields squares of numbers from 1 to 5. <br>\n",
    "Lazy Evaluation: Values are calculated only when needed, reducing memory usage compared to a list comprehension."
   ]
  },
  {
   "cell_type": "code",
   "execution_count": 1,
   "metadata": {},
   "outputs": [
    {
     "name": "stdout",
     "output_type": "stream",
     "text": [
      "1\n",
      "2\n",
      "3\n"
     ]
    }
   ],
   "source": [
    "# Generators are a special case of iterators because they implement both the __iter__() and __next__() methods, allowing them to be used in for loops or with the next() function.\n",
    "def generate_numbers():\n",
    "    yield 1\n",
    "    yield 2\n",
    "    yield 3\n",
    "\n",
    "gen = generate_numbers()\n",
    "\n",
    "# Manually fetching values using next()\n",
    "print(next(gen))  \n",
    "print(next(gen))  \n",
    "print(next(gen))  \n",
    "# next(gen)  # Would raise StopIteration because there are no more values"
   ]
  },
  {
   "cell_type": "markdown",
   "metadata": {},
   "source": [
    "## Python Decorators\n",
    "A decorator in Python is a function that modifies the behavior of another function or method. Decorators allow you to wrap another function in order to add functionality to it, without changing its structure. This is useful for tasks like logging, enforcing access control, or timing the execution of a function.<br>\n",
    "<br><br>\n",
    "Decorators use the @decorator_name syntax and are often used for adding reusable code to existing functions or classes.<br>\n",
    "<br><br>\n",
    "**How Decorators Work**<br>\n",
    "A decorator is a function that takes another function as an argument and extends or alters its behavior.<br>\n",
    "It typically returns a wrapper function that runs additional code before or after the original function.<br>"
   ]
  },
  {
   "cell_type": "code",
   "execution_count": 2,
   "metadata": {},
   "outputs": [
    {
     "name": "stdout",
     "output_type": "stream",
     "text": [
      "Before the function is called.\n",
      "Hello!\n"
     ]
    }
   ],
   "source": [
    "def my_decorator(func):\n",
    "    def wrapper():\n",
    "        \n",
    "        func()  # Calling the original function\n",
    "        print(\"After the function is called.\")\n",
    "    return wrapper\n",
    "\n",
    "@my_decorator\n",
    "def say_hello():\n",
    "    print(\"Hello!\")\n",
    "\n",
    "@my_decorator    \n",
    "def say_goodbye():\n",
    "    print(\"Goodbye!\")\n",
    "\n",
    "\n",
    "# Call the decorated function\n",
    "say_hello()\n"
   ]
  },
  {
   "cell_type": "code",
   "execution_count": 5,
   "metadata": {},
   "outputs": [
    {
     "name": "stdout",
     "output_type": "stream",
     "text": [
      "Sleeping for 2 second(s)...\n",
      "Executed slow_function in 2.0027 seconds\n"
     ]
    }
   ],
   "source": [
    "import time\n",
    "\n",
    "# Logging decorator to record execution time\n",
    "def log_execution_time(func):\n",
    "    def wrapper(*args, **kwargs):  # This allows the decorator to accept functions with any arguments\n",
    "        start_time = time.time()  # Start the timer\n",
    "        result = func(*args, **kwargs)  # Call the original function with the same arguments\n",
    "        end_time = time.time()  # End the timer\n",
    "        print(f\"Executed {func.__name__} in {end_time - start_time:.4f} seconds\")\n",
    "        return result  # Return the original function's result\n",
    "    return wrapper  # Return the wrapper function\n",
    "\n",
    "@log_execution_time\n",
    "def slow_function(seconds):\n",
    "    print(f\"Sleeping for {seconds} second(s)...\")\n",
    "    time.sleep(seconds)  # Simulate a slow process\n",
    "\n",
    "# Call the decorated function\n",
    "slow_function(2)"
   ]
  },
  {
   "cell_type": "markdown",
   "metadata": {},
   "source": [
    "Why You Need the Wrapper Function: <br>\n",
    "To preserve the original function's functionality.<br>\n",
    "To execute additional code before or after the original function.<br>\n",
    "To handle dynamic arguments (*args, **kwargs). Otherwise `log_execution_time` can only get the `func` as parameter<br>\n",
    "The wrapper is the core of the decorator’s ability to modify or extend function behavior without changing the function itself."
   ]
  },
  {
   "cell_type": "markdown",
   "metadata": {},
   "source": [
    "venv, virtualenv, pyenv, pipenv, conda,poetry"
   ]
  },
  {
   "cell_type": "code",
   "execution_count": 8,
   "metadata": {},
   "outputs": [],
   "source": [
    "\n",
    "\n",
    "def ambigous_name(a: bool, b:int) -> List[int]:\n",
    "    return a+b"
   ]
  },
  {
   "cell_type": "code",
   "execution_count": 9,
   "metadata": {},
   "outputs": [
    {
     "data": {
      "text/plain": [
       "'hello world'"
      ]
     },
     "execution_count": 9,
     "metadata": {},
     "output_type": "execute_result"
    }
   ],
   "source": [
    "lets_sum('hello', ' world')"
   ]
  },
  {
   "cell_type": "markdown",
   "metadata": {},
   "source": [
    "##### Shall we push the lock file to git?\n",
    "https://python-poetry.org/docs/basic-usage/#commit-your-poetrylock-file-to-version-control"
   ]
  },
  {
   "cell_type": "code",
   "execution_count": null,
   "metadata": {},
   "outputs": [],
   "source": []
  },
  {
   "cell_type": "code",
   "execution_count": null,
   "metadata": {},
   "outputs": [],
   "source": []
  }
 ],
 "metadata": {
  "kernelspec": {
   "display_name": "ss_env",
   "language": "python",
   "name": "python3"
  },
  "language_info": {
   "codemirror_mode": {
    "name": "ipython",
    "version": 3
   },
   "file_extension": ".py",
   "mimetype": "text/x-python",
   "name": "python",
   "nbconvert_exporter": "python",
   "pygments_lexer": "ipython3",
   "version": "3.12.4"
  }
 },
 "nbformat": 4,
 "nbformat_minor": 2
}
