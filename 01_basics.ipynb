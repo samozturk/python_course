{
 "cells": [
  {
   "cell_type": "markdown",
   "metadata": {},
   "source": [
    "## Development of the Python Programming Language\n",
    "1. The Origin of Python\n",
    "Developer: Guido van Rossum, a Dutch programmer, is the creator of Python.\n",
    "Inspiration: Python was inspired by the ABC programming language, which was designed for teaching and prototyping but lacked certain features like exception handling and the ability to interface with the operating system. Guido wanted to create a language that combined the strengths of ABC with more powerful and flexible capabilities. \n",
    "<br><br>\n",
    "2. Initial Development\n",
    "Timeline:\n",
    "Guido began working on Python in December 1989 while at the Centrum Wiskunde & Informatica (CWI) in the Netherlands.\n",
    "The first version, Python 0.9.0, was released in February 1991.\n",
    "Features of Python 0.9.0:\n",
    "It included core concepts like exception handling, functions, and the core data types: str, list, dict, and others.\n",
    "Modules were also introduced in this version, allowing the reuse of code and modular programming.\n",
    "<br><br>\n",
    "3. Naming of Python\n",
    "Guido named the language \"Python\" as a tribute to the British comedy group Monty Python, not after the snake. He was reading the script for \"Monty Python's Flying Circus\" while developing the language and wanted a name that was short, unique, and slightly mysterious.\n",
    "<br><br>\n",
    "4. Purpose of Development\n",
    "Guido wanted to create a language that was:\n",
    "Easy to Read and Write: Emphasizing code readability with clear syntax.\n",
    "High-Level: Abstracting complex details of the computer's operation.\n",
    "Flexible and Extensible: Suitable for a variety of applications, from scripting to full-scale application development.\n",
    "Interactive and Interpreted: Allowing users to quickly test and execute code.\n",
    "<br><br>\n",
    "5. Key Milestones in Python's Evolution\n",
    "1994: Python 1.0 was released, featuring functional programming tools like lambda, map(), filter(), and reduce().\n",
    "2000: Python 2.0 was introduced, adding list comprehensions, garbage collection, and the dict constructor.\n",
    "2008: Python 3.0, a major revision, was released to rectify inconsistencies in the language and improve overall design. It was not backward compatible with Python 2.x, which led to a long period of transition and dual-version support.\n",
    "<br><br>\n",
    "6. Community and Open Source\n",
    "Python has always been an open-source project, with contributions from a global community of developers.\n",
    "Python Software Foundation (PSF): Established in 2001, the PSF manages the open-source licensing and ongoing development of Python.\n",
    "<br><br>\n",
    "7. Why Python Became Popular\n",
    "Simplicity and Readability: Its clean and readable syntax makes it an excellent language for beginners and professionals alike.\n",
    "Versatility: Used in various domains such as web development, data science, automation, scientific computing, artificial intelligence, and more.\n",
    "Extensive Libraries and Community Support: A vast ecosystem of libraries and a supportive community help developers solve almost any problem using Python.\n",
    "<br><br>\n",
    "8. Current Status\n",
    "Python is one of the most popular programming languages worldwide, driven by its extensive use in data science, machine learning, and web development.\n",
    "It continues to evolve with regular updates and an active community contributing to its development.\n",
    "Leadership and Governance\n",
    "Guido van Rossum served as Python's \"Benevolent Dictator For Life\" (BDFL), overseeing its development until he stepped down from the role in 2018.\n",
    "Today, Python’s development is managed by the Python Steering Council, ensuring the language continues to grow and meet the needs of its diverse user base."
   ]
  },
  {
   "cell_type": "markdown",
   "metadata": {},
   "source": [
    "# Data Types\n",
    "### Python supports various data types such as int, float, str, list, tuple, set, and dict."
   ]
  },
  {
   "cell_type": "code",
   "execution_count": 47,
   "metadata": {},
   "outputs": [
    {
     "name": "stdout",
     "output_type": "stream",
     "text": [
      "My message: Hello, Python\n"
     ]
    }
   ],
   "source": [
    "# Example: Different Data Types in Python\n",
    "bool_example = True\n",
    "integer_example = 10  # Integer type\n",
    "float_example = 10.5  # Float type\n",
    "string_example = \"Hello, Python\"  # String type\n",
    "f_string_example = f\"My message: {string_example}\"\n",
    "print(f_string_example)"
   ]
  },
  {
   "cell_type": "code",
   "execution_count": 62,
   "metadata": {},
   "outputs": [
    {
     "name": "stdout",
     "output_type": "stream",
     "text": [
      "integer: 10 , converted to float: 10.0\n"
     ]
    }
   ],
   "source": [
    "# You can also cast/convert\n",
    "int_to_float = float(integer_example)\n",
    "print(f\"integer: {integer_example} , converted to float: {int_to_float}\")\n",
    "\n",
    "\n",
    "list_example = [1, 2, 3, 4, 5]  # List type\n",
    "tuple_example = (1, 2, 3, 4, 5)  # Tuple type\n",
    "set_example = {1, 2, 3, 4, 5}  # Set type\n",
    "dict_example = {\"name\": \"Sam\", \"age\": 35}  # Dictionary type"
   ]
  },
  {
   "cell_type": "code",
   "execution_count": 49,
   "metadata": {},
   "outputs": [
    {
     "data": {
      "text/plain": [
       "'A'"
      ]
     },
     "execution_count": 49,
     "metadata": {},
     "output_type": "execute_result"
    }
   ],
   "source": [
    "# BONUS, ascii to str\n",
    "chr(65)"
   ]
  },
  {
   "cell_type": "code",
   "execution_count": 54,
   "metadata": {},
   "outputs": [
    {
     "name": "stdout",
     "output_type": "stream",
     "text": [
      "a+b+c\n",
      "['a', 'b', 'c']\n"
     ]
    }
   ],
   "source": [
    "# String methods\n",
    "str_list = ['a', 'b', 'c']\n",
    "join_examples = '+'.join(str_list)\n",
    "print(join_examples)\n",
    "\n",
    "split_examples = join_examples.split('+')\n",
    "print(split_examples)"
   ]
  },
  {
   "cell_type": "code",
   "execution_count": 63,
   "metadata": {},
   "outputs": [
    {
     "name": "stdout",
     "output_type": "stream",
     "text": [
      "[1, 2, 3, 4, 5, 6]\n",
      "[1, 2, 3, 4, 5]\n",
      "5\n",
      "[1, 2, 3, 4]\n",
      "[1, 'a', 2, 3, 4]\n"
     ]
    }
   ],
   "source": [
    "# List methods\n",
    "list_example.append(6)\n",
    "print(list_example)\n",
    "list_example.remove(6)\n",
    "print(list_example)\n",
    "\n",
    "lost_element = list_example.pop()\n",
    "print(lost_element)\n",
    "print(list_example)\n",
    "\n",
    "list_example.insert(1, \"a\")\n",
    "print(list_example)"
   ]
  },
  {
   "cell_type": "code",
   "execution_count": 69,
   "metadata": {},
   "outputs": [
    {
     "name": "stdout",
     "output_type": "stream",
     "text": [
      "2\n",
      "1\n",
      "9\n",
      "False\n"
     ]
    }
   ],
   "source": [
    "# Operators\n",
    "# Python includes arithmetic, comparison, logical, bitwise, assignment, identity, and membership operators.\n",
    "\n",
    "# Example: Arithmetic Operators\n",
    "sum_example = 10 + 5  # Addition\n",
    "difference_example = 10 - 5  # Subtraction\n",
    "product_example = 10 * 5  # Multiplication\n",
    "division_example = 10 / 5  # Division\n",
    "\n",
    "floor_division = 11 // 5\n",
    "print(floor_division)\n",
    "\n",
    "modulus_example = 11 % 5\n",
    "print(modulus_example)\n",
    "\n",
    "exp_example = 3 ** 2\n",
    "print(exp_example)\n",
    "\n",
    "and_example = True and False\n",
    "or_example = True or False\n",
    "\n",
    "gt_example = 5 > 10\n",
    "print(gt_example)"
   ]
  },
  {
   "cell_type": "code",
   "execution_count": 21,
   "metadata": {},
   "outputs": [
    {
     "name": "stdout",
     "output_type": "stream",
     "text": [
      "Hello, Python from The Hague\n"
     ]
    }
   ],
   "source": [
    "# What happens if you sum to str?\n",
    "string_sum_example = string_example + \" from The Hague\"\n",
    "print(string_sum_example)"
   ]
  },
  {
   "cell_type": "code",
   "execution_count": 41,
   "metadata": {},
   "outputs": [
    {
     "name": "stdout",
     "output_type": "stream",
     "text": [
      "list example: [1, 2, 3, 4, 5],\n",
      "list example 2: [1, 2, 3, 4, 5]\n",
      "True\n"
     ]
    }
   ],
   "source": [
    "# is and == operator\n",
    "list_example_2 = list(list_example)\n",
    "\n",
    "print(f'''list example: {list_example},\n",
    "list example 2: {list_example_2}''') # multi-line strings\n",
    "\n",
    "print(list_example_2 == list_example)"
   ]
  },
  {
   "cell_type": "code",
   "execution_count": 38,
   "metadata": {},
   "outputs": [
    {
     "name": "stdout",
     "output_type": "stream",
     "text": [
      "False\n"
     ]
    }
   ],
   "source": [
    "print(list_example is list_example_2)"
   ]
  },
  {
   "cell_type": "markdown",
   "metadata": {},
   "source": [
    "## Conditionals, Loops"
   ]
  },
  {
   "cell_type": "code",
   "execution_count": 42,
   "metadata": {},
   "outputs": [
    {
     "name": "stdout",
     "output_type": "stream",
     "text": [
      "Still eligible to vote\n"
     ]
    }
   ],
   "source": [
    "# Conditional Statement\n",
    "# if, elif, else are used for decision-making based on conditions.\n",
    "\n",
    "# Example: Conditional Statement\n",
    "age = 18\n",
    "if age > 18:\n",
    "    print(\"Eligible to vote\")\n",
    "elif age == 18:\n",
    "    print(\"Still eligible to vote\") \n",
    "else:\n",
    "    print(\"Not eligible to vote\")"
   ]
  },
  {
   "cell_type": "code",
   "execution_count": 43,
   "metadata": {},
   "outputs": [
    {
     "name": "stdout",
     "output_type": "stream",
     "text": [
      "Loop iteration 0\n",
      "Loop iteration 1\n",
      "Loop iteration 2\n",
      "Loop iteration 3\n",
      "Loop iteration 4\n"
     ]
    }
   ],
   "source": [
    "# Looping Statement\n",
    "# Python supports loops like for and while for iterative execution.\n",
    "\n",
    "# Example: For Loop\n",
    "for i in range(5):\n",
    "    print(f\"Loop iteration {i}\")"
   ]
  },
  {
   "cell_type": "markdown",
   "metadata": {},
   "source": [
    "## Functions"
   ]
  },
  {
   "cell_type": "code",
   "execution_count": 44,
   "metadata": {},
   "outputs": [
    {
     "name": "stdout",
     "output_type": "stream",
     "text": [
      "Hello, Alice!\n"
     ]
    }
   ],
   "source": [
    "# Functions\n",
    "# Functions are reusable blocks of code that perform a specific task.\n",
    "\n",
    "# Example: Function Definition\n",
    "def greet(name):\n",
    "    \"\"\"This function greets a person.\"\"\"\n",
    "    return f\"Hello, {name}!\"\n",
    "\n",
    "print(greet(\"Alice\"))"
   ]
  },
  {
   "cell_type": "code",
   "execution_count": 76,
   "metadata": {},
   "outputs": [],
   "source": [
    "# Global and local variables\n",
    "def int(number):\n",
    "    return number + \"1\"\n"
   ]
  },
  {
   "cell_type": "code",
   "execution_count": 77,
   "metadata": {},
   "outputs": [
    {
     "data": {
      "text/plain": [
       "'51'"
      ]
     },
     "execution_count": 77,
     "metadata": {},
     "output_type": "execute_result"
    }
   ],
   "source": [
    "int('5')"
   ]
  },
  {
   "cell_type": "markdown",
   "metadata": {},
   "source": [
    "## OOP"
   ]
  },
  {
   "cell_type": "code",
   "execution_count": 45,
   "metadata": {},
   "outputs": [
    {
     "name": "stdout",
     "output_type": "stream",
     "text": [
      "Dog makes a sound.\n"
     ]
    }
   ],
   "source": [
    "# Object-Oriented Programming (OOP) in Python\n",
    "\n",
    "# OOP is a programming paradigm based on the concept of objects, which can contain both data (attributes) and methods (functions).\n",
    "# The four main pillars of OOP are:\n",
    "# 1. Encapsulation\n",
    "# 2. Abstraction\n",
    "# 3. Inheritance\n",
    "# 4. Polymorphism\n",
    "\n",
    "# Let's explore these concepts step by step.\n",
    "\n",
    "# ==========================\n",
    "# 1. Classes and Objects\n",
    "# ==========================\n",
    "# A class is a blueprint for creating objects. An object is an instance of a class.\n",
    "\n",
    "# Example: Creating a simple class `Car` with attributes and methods.\n",
    "class Car:\n",
    "    # __init__ is the constructor method in Python. It initializes the object's state.\n",
    "    def __init__(self, brand, model, year):\n",
    "        # `self` is a reference to the current object. It allows the class to access its own attributes and methods.\n",
    "        self.brand = brand  # Attribute: brand of the car\n",
    "        self.model = model  # Attribute: model of the car\n",
    "        self.year = year    # Attribute: year of manufacture\n",
    "\n",
    "    # Method to display car details\n",
    "    def display_details(self):\n",
    "        print(f\"Car Details: {self.year} {self.brand} {self.model}\")\n",
    "\n",
    "# Creating an object of the class\n",
    "my_car = Car(\"Toyota\", \"Corolla\", 2021)\n",
    "my_car.display_details()  # Output: Car Details: 2021 Toyota Corolla\n",
    "\n",
    "\n",
    "# ==========================\n",
    "# 2. Encapsulation\n",
    "# ==========================\n",
    "# Encapsulation refers to bundling data (attributes) and methods together within a class. It also controls access to them, preventing external modification.\n",
    "\n",
    "# Example: Implementing encapsulation using private variables\n",
    "class BankAccount:\n",
    "    def __init__(self, owner, balance):\n",
    "        self.owner = owner        # Public attribute\n",
    "        self.__balance = balance  # Private attribute (denoted by two underscores)\n",
    "\n",
    "    # Method to deposit money\n",
    "    def deposit(self, amount):\n",
    "        self.__balance += amount\n",
    "        print(f\"{amount} deposited. New balance: {self.__balance}\")\n",
    "\n",
    "    # Method to withdraw money\n",
    "    def withdraw(self, amount):\n",
    "        if amount > self.__balance:\n",
    "            print(\"Insufficient funds!\")\n",
    "        else:\n",
    "            self.__balance -= amount\n",
    "            print(f\"{amount} withdrawn. New balance: {self.__balance}\")\n",
    "\n",
    "    # Public method to check the balance (since __balance is private)\n",
    "    def check_balance(self):\n",
    "        return self.__balance\n",
    "\n",
    "# Creating an object of BankAccount\n",
    "account = BankAccount(\"Alice\", 1000)\n",
    "account.deposit(500)         # Deposits 500\n",
    "account.withdraw(300)        # Withdraws 300\n",
    "print(account.check_balance())  # Output: 1200\n",
    "\n",
    "# Trying to access private attribute from outside will raise an AttributeError\n",
    "# print(account.__balance)  # This will result in an error\n",
    "\n",
    "# ==========================\n",
    "# 3. Inheritance\n",
    "# ==========================\n",
    "# Inheritance allows a class (child) to inherit attributes and methods from another class (parent).\n",
    "\n",
    "# Example: Creating a `Vehicle` class (parent) and a `Car` class (child) that inherits from it\n",
    "class Vehicle:\n",
    "    def __init__(self, brand, model):\n",
    "        self.brand = brand\n",
    "        self.model = model\n",
    "\n",
    "    def start(self):\n",
    "        print(f\"The {self.brand} {self.model} is starting.\")\n",
    "\n",
    "# Child class inheriting from the parent class\n",
    "class Car(Vehicle):\n",
    "    def __init__(self, brand, model, year):\n",
    "        # Call the parent class constructor using super()\n",
    "        super().__init__(brand, model)\n",
    "        self.year = year\n",
    "\n",
    "    def honk(self):\n",
    "        print(f\"{self.brand} {self.model} is honking.\")\n",
    "\n",
    "# Creating an object of Car (which inherits from Vehicle)\n",
    "my_car = Car(\"Honda\", \"Civic\", 2020)\n",
    "my_car.start()   # Output: The Honda Civic is starting. (inherited method)\n",
    "my_car.honk()    # Output: Honda Civic is honking. (child method)\n",
    "\n",
    "\n",
    "# ==========================\n",
    "# 4. Polymorphism\n",
    "# ==========================\n",
    "# Polymorphism means the ability to take many forms. It allows objects of different types to be treated as instances of the same class.\n",
    "\n",
    "# Example: Different classes with a common method (polymorphism in methods)\n",
    "class Dog:\n",
    "    def speak(self):\n",
    "        return \"Woof!\"\n",
    "\n",
    "class Cat:\n",
    "    def speak(self):\n",
    "        return \"Meow!\"\n",
    "\n",
    "# A function that accepts any object with a speak method\n",
    "def animal_speak(animal):\n",
    "    print(animal.speak())\n",
    "\n",
    "dog = Dog()\n",
    "cat = Cat()\n",
    "\n",
    "animal_speak(dog)  # Output: Woof!\n",
    "animal_speak(cat)  # Output: Meow!\n",
    "\n",
    "\n",
    "# ==========================\n",
    "# 5. Abstraction\n",
    "# ==========================\n",
    "# Abstraction means hiding complex implementation details and exposing only the essential features.\n",
    "\n",
    "# Example: Using abstract classes and methods\n",
    "from abc import ABC, abstractmethod\n",
    "\n",
    "class Animal(ABC):  # ABC stands for Abstract Base Class\n",
    "    @abstractmethod\n",
    "    def make_sound(self):\n",
    "        pass  # Abstract method, must be implemented by subclasses\n",
    "\n",
    "class Dog(Animal):\n",
    "    def make_sound(self):\n",
    "        return \"Woof!\"\n",
    "\n",
    "class Cat(Animal):\n",
    "    def make_sound(self):\n",
    "        return \"Meow!\"\n",
    "\n",
    "# Trying to create an object of abstract class will result in an error\n",
    "# animal = Animal()  # Error!\n",
    "\n",
    "# Creating objects of subclasses\n",
    "dog = Dog()\n",
    "cat = Cat()\n",
    "\n",
    "print(dog.make_sound())  # Output: Woof!\n",
    "print(cat.make_sound())  # Output: Meow!\n",
    "\n",
    "\n",
    "# ==========================\n",
    "# 6. Method Overriding\n",
    "# ==========================\n",
    "# Method overriding allows a child class to provide a specific implementation of a method that is already defined in its parent class.\n",
    "\n",
    "# Example: Overriding the `start` method in the child class\n",
    "class ElectricCar(Car):\n",
    "    def start(self):\n",
    "        print(f\"The electric {self.brand} {self.model} is silently starting.\")\n",
    "\n",
    "# Creating an object of ElectricCar\n",
    "tesla = ElectricCar(\"Tesla\", \"Model S\", 2021)\n",
    "tesla.start()  # Output: The electric Tesla Model S is silently starting.\n",
    "\n",
    "\n",
    "# ==========================\n",
    "# 7. Multiple Inheritance\n",
    "# ==========================\n",
    "# Python supports multiple inheritance, allowing a class to inherit from more than one class.\n",
    "\n",
    "# Example: Multiple inheritance\n",
    "class Flyer:\n",
    "    def fly(self):\n",
    "        print(\"Flying...\")\n",
    "\n",
    "class Swimmer:\n",
    "    def swim(self):\n",
    "        print(\"Swimming...\")\n",
    "\n",
    "# Class Duck inherits from both Flyer and Swimmer\n",
    "class Duck(Flyer, Swimmer):\n",
    "    def quack(self):\n",
    "        print(\"Quacking...\")\n",
    "\n",
    "# Creating an object of Duck\n",
    "duck = Duck()\n",
    "duck.fly()    # Output: Flying...\n",
    "duck.swim()   # Output: Swimming...\n",
    "duck.quack()  # Output: Quacking...\n",
    "\n",
    "# ==========================\n",
    "# 8. Class and Static Methods\n",
    "# ==========================\n",
    "# Class methods are methods bound to the class, not the instance of the class. Static methods do not depend on class or instance attributes.\n",
    "\n",
    "# Example: Class and static methods\n",
    "class MathOperations:\n",
    "    @staticmethod\n",
    "    def add(a, b):\n",
    "        return a + b\n",
    "    \n",
    "    @classmethod\n",
    "    def multiply(cls, a, b):\n",
    "        return a * b\n",
    "\n",
    "# Using static method\n",
    "print(MathOperations.add(5, 3))  # Output: 8\n",
    "\n",
    "# Using class method\n",
    "print(MathOperations.multiply(5, 3))  # Output: 15\n"
   ]
  },
  {
   "cell_type": "code",
   "execution_count": null,
   "metadata": {},
   "outputs": [],
   "source": []
  }
 ],
 "metadata": {
  "kernelspec": {
   "display_name": "ss_env",
   "language": "python",
   "name": "python3"
  },
  "language_info": {
   "codemirror_mode": {
    "name": "ipython",
    "version": 3
   },
   "file_extension": ".py",
   "mimetype": "text/x-python",
   "name": "python",
   "nbconvert_exporter": "python",
   "pygments_lexer": "ipython3",
   "version": "3.12.4"
  }
 },
 "nbformat": 4,
 "nbformat_minor": 2
}
